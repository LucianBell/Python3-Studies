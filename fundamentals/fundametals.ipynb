{
 "cells": [
  {
   "cell_type": "markdown",
   "metadata": {},
   "source": [
    "# First steps"
   ]
  },
  {
   "cell_type": "code",
   "execution_count": 1,
   "metadata": {},
   "outputs": [
    {
     "name": "stdout",
     "output_type": "stream",
     "text": [
      "python cares about the indentation :)\n"
     ]
    },
    {
     "data": {
      "text/plain": [
       "5"
      ]
     },
     "execution_count": 1,
     "metadata": {},
     "output_type": "execute_result"
    }
   ],
   "source": [
    "print('python cares about the indentation :)')\n",
    "3 + \\\n",
    "2\n"
   ]
  },
  {
   "cell_type": "markdown",
   "metadata": {},
   "source": [
    "# Basic types"
   ]
  },
  {
   "cell_type": "code",
   "execution_count": 4,
   "metadata": {},
   "outputs": [
    {
     "name": "stdout",
     "output_type": "stream",
     "text": [
      "[1, 2, 3]\n",
      "<class 'list'>\n",
      "{'name': 'Lucian', 'Programming language': 'Python'}\n",
      "<class 'dict'>\n"
     ]
    }
   ],
   "source": [
    "my_list = [1, 2, 3]\n",
    "my_dict = {'name': 'Lucian', 'Programming language': 'Python'}\n",
    "\n",
    "print(my_list)\n",
    "print(type(my_list))\n",
    "\n",
    "\n",
    "print(my_dict)\n",
    "print(type(my_dict))\n"
   ]
  },
  {
   "cell_type": "markdown",
   "metadata": {},
   "source": [
    "- List elements are identified by their index (position in the list/array)\n",
    "- Dictionaries follow the idea of key-value, where their elements are identified by unique values (keys) "
   ]
  },
  {
   "cell_type": "markdown",
   "metadata": {},
   "source": [
    "# Variables"
   ]
  },
  {
   "cell_type": "code",
   "execution_count": 6,
   "metadata": {},
   "outputs": [
    {
     "name": "stdout",
     "output_type": "stream",
     "text": [
      "12.5\n",
      "<class 'int'>\n",
      "<class 'str'>\n"
     ]
    }
   ],
   "source": [
    "a = 10 # Int\n",
    "b = 2.5 # Float\n",
    "\n",
    "print(a + b) # Summing int and float\n",
    "print(type(a))\n",
    "\n",
    "a = 'Now I am a string!'\n",
    "print(type(a))\n"
   ]
  },
  {
   "cell_type": "markdown",
   "metadata": {},
   "source": [
    "- Python is a **dynamically typed language**\n",
    "    - This means you are not the one that defines what type is assigned to a variable\n",
    "    - The interpreter will do that and assign a type for a variable depending on the context\n",
    "    - That is way in line 7 the type of the variable a was changed"
   ]
  },
  {
   "cell_type": "markdown",
   "metadata": {},
   "source": [
    "## Why Python is strongly typed?\n",
    "- Python is considered a strongly typed language because, **once a variable is assigned to a data type, you can't perform operations that are inappropriate for that type** without causing an error.\n",
    "- Here is an example:"
   ]
  },
  {
   "cell_type": "code",
   "execution_count": 7,
   "metadata": {},
   "outputs": [
    {
     "ename": "TypeError",
     "evalue": "can only concatenate str (not \"float\") to str",
     "output_type": "error",
     "traceback": [
      "\u001b[1;31m---------------------------------------------------------------------------\u001b[0m",
      "\u001b[1;31mTypeError\u001b[0m                                 Traceback (most recent call last)",
      "Cell \u001b[1;32mIn[7], line 1\u001b[0m\n\u001b[1;32m----> 1\u001b[0m \u001b[38;5;28mprint\u001b[39m(a \u001b[38;5;241m+\u001b[39m b)\n",
      "\u001b[1;31mTypeError\u001b[0m: can only concatenate str (not \"float\") to str"
     ]
    }
   ],
   "source": [
    "print(a + b)\n"
   ]
  },
  {
   "cell_type": "markdown",
   "metadata": {},
   "source": [
    "# Arithmetic operators and Notation"
   ]
  },
  {
   "cell_type": "code",
   "execution_count": 11,
   "metadata": {},
   "outputs": [
    {
     "name": "stdout",
     "output_type": "stream",
     "text": [
      "8\n",
      "3.0\n",
      "1\n"
     ]
    }
   ],
   "source": [
    "power = 2 ** 3 \n",
    "print(power)\n",
    "\n",
    "truncated_float = 9.4 // 3\n",
    "print(truncated_float)\n",
    "\n",
    "module_division = 10 % 3\n",
    "print(module_division)\n"
   ]
  },
  {
   "cell_type": "code",
   "execution_count": null,
   "metadata": {},
   "outputs": [],
   "source": [
    "# Python uses infix operation notation for improved readability\n",
    "infix_operation = 10 + 3\n",
    "\n",
    "\"\"\"\n",
    "Other notations are:\n",
    "- Prefix notation (++a)\n",
    "- Postfix notation (a++)\n",
    "\n",
    "Examples:\n",
    "b = ++a (b receives the value of incremented a)\n",
    "b = a++ (b receives the value of a, and then a is incremented)\n",
    "\"\"\"\n"
   ]
  },
  {
   "cell_type": "markdown",
   "metadata": {},
   "source": [
    "# Logic operators"
   ]
  },
  {
   "cell_type": "code",
   "execution_count": 16,
   "metadata": {},
   "outputs": [
    {
     "name": "stdout",
     "output_type": "stream",
     "text": [
      "False\n",
      "True\n",
      "True\n"
     ]
    }
   ],
   "source": [
    "a = (7 < 4) and (5 > 3)\n",
    "print(a)\n",
    "\n",
    "b = (3 > 2) or (1 > 5)\n",
    "print(b)\n",
    "\n",
    "# Equivalent of XOR\n",
    "c = (3 > 2) != (1 > 5)\n",
    "print(c)\n"
   ]
  },
  {
   "cell_type": "code",
   "execution_count": 20,
   "metadata": {},
   "outputs": [
    {
     "name": "stdout",
     "output_type": "stream",
     "text": [
      "False\n",
      "2\n",
      "3\n"
     ]
    }
   ],
   "source": [
    "# You can use & and | in BIT OPERATIONS AND TRUE/FALSE ONLY OPERATIONS\n",
    "will_b_true = True & False\n",
    "print(will_b_true)\n",
    "\n",
    "# Using this operator with bit operations\n",
    "value = 3 & 2\n",
    "print(value)\n",
    "value = 3 | 2\n",
    "print(value)\n"
   ]
  },
  {
   "cell_type": "markdown",
   "metadata": {},
   "source": [
    "# A little challenge"
   ]
  },
  {
   "cell_type": "code",
   "execution_count": 21,
   "metadata": {},
   "outputs": [],
   "source": [
    "work_tuesday = True\n",
    "work_wednesday = False\n",
    "\n",
    "biggest_prize = work_tuesday and work_wednesday\n",
    "ice_cream_prize = work_tuesday or work_wednesday\n",
    "medium_prize = work_tuesday != work_wednesday\n",
    "no_prize = not ice_cream_prize\n"
   ]
  },
  {
   "cell_type": "markdown",
   "metadata": {},
   "source": [
    "# Ternary operators"
   ]
  },
  {
   "cell_type": "code",
   "execution_count": 22,
   "metadata": {},
   "outputs": [
    {
     "name": "stdout",
     "output_type": "stream",
     "text": [
      "Today my clothes are wet.\n"
     ]
    }
   ],
   "source": [
    "is_raining = True\n",
    "\n",
    "#    Value 1                  Possible values 2  Condition for value\n",
    "print(\"Today my clothes are \" + (\"dry.\", \"wet.\")[is_raining]) # Helps getting rid of if operators in some cases\n",
    "\n",
    "# Remember: It is always the negative option first, then the positive one\n"
   ]
  }
 ],
 "metadata": {
  "kernelspec": {
   "display_name": "Python 3",
   "language": "python",
   "name": "python3"
  },
  "language_info": {
   "codemirror_mode": {
    "name": "ipython",
    "version": 3
   },
   "file_extension": ".py",
   "mimetype": "text/x-python",
   "name": "python",
   "nbconvert_exporter": "python",
   "pygments_lexer": "ipython3",
   "version": "3.12.4"
  }
 },
 "nbformat": 4,
 "nbformat_minor": 2
}
