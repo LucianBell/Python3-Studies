{
 "cells": [
  {
   "cell_type": "markdown",
   "metadata": {},
   "source": [
    "# First steps"
   ]
  },
  {
   "cell_type": "code",
   "execution_count": 1,
   "metadata": {},
   "outputs": [
    {
     "name": "stdout",
     "output_type": "stream",
     "text": [
      "python cares about the indentation :)\n"
     ]
    },
    {
     "data": {
      "text/plain": [
       "5"
      ]
     },
     "execution_count": 1,
     "metadata": {},
     "output_type": "execute_result"
    }
   ],
   "source": [
    "print('python cares about the indentation :)')\n",
    "3 + \\\n",
    "2\n"
   ]
  },
  {
   "cell_type": "markdown",
   "metadata": {},
   "source": [
    "# Basic types"
   ]
  },
  {
   "cell_type": "code",
   "execution_count": 4,
   "metadata": {},
   "outputs": [
    {
     "name": "stdout",
     "output_type": "stream",
     "text": [
      "[1, 2, 3]\n",
      "<class 'list'>\n",
      "{'name': 'Lucian', 'Programming language': 'Python'}\n",
      "<class 'dict'>\n"
     ]
    }
   ],
   "source": [
    "my_list = [1, 2, 3]\n",
    "my_dict = {'name': 'Lucian', 'Programming language': 'Python'}\n",
    "\n",
    "print(my_list)\n",
    "print(type(my_list))\n",
    "\n",
    "\n",
    "print(my_dict)\n",
    "print(type(my_dict))\n"
   ]
  },
  {
   "cell_type": "markdown",
   "metadata": {},
   "source": [
    "- List elements are identified by their index (position in the list/array)\n",
    "- Dictionaries follow the idea of key-value, where their elements are identified by unique values (keys) "
   ]
  },
  {
   "cell_type": "markdown",
   "metadata": {},
   "source": [
    "# Variables"
   ]
  },
  {
   "cell_type": "code",
   "execution_count": 6,
   "metadata": {},
   "outputs": [
    {
     "name": "stdout",
     "output_type": "stream",
     "text": [
      "12.5\n",
      "<class 'int'>\n",
      "<class 'str'>\n"
     ]
    }
   ],
   "source": [
    "a = 10 # Int\n",
    "b = 2.5 # Float\n",
    "\n",
    "print(a + b) # Summing int and float\n",
    "print(type(a))\n",
    "\n",
    "a = 'Now I am a string!'\n",
    "print(type(a))\n"
   ]
  },
  {
   "cell_type": "markdown",
   "metadata": {},
   "source": [
    "- Python is a **dynamically typed language**\n",
    "    - This means you are not the one that defines what type is assigned to a variable\n",
    "    - The interpreter will do that and assign a type for a variable depending on the context\n",
    "    - That is way in line 7 the type of the variable a was changed"
   ]
  },
  {
   "cell_type": "markdown",
   "metadata": {},
   "source": [
    "## Why Python is strongly typed?\n",
    "- Python is considered a strongly typed language because, **once a variable is assigned to a data type, you can't perform operations that are inappropriate for that type** without causing an error.\n",
    "- Here is an example:"
   ]
  },
  {
   "cell_type": "code",
   "execution_count": 7,
   "metadata": {},
   "outputs": [
    {
     "ename": "TypeError",
     "evalue": "can only concatenate str (not \"float\") to str",
     "output_type": "error",
     "traceback": [
      "\u001b[1;31m---------------------------------------------------------------------------\u001b[0m",
      "\u001b[1;31mTypeError\u001b[0m                                 Traceback (most recent call last)",
      "Cell \u001b[1;32mIn[7], line 1\u001b[0m\n\u001b[1;32m----> 1\u001b[0m \u001b[38;5;28mprint\u001b[39m(a \u001b[38;5;241m+\u001b[39m b)\n",
      "\u001b[1;31mTypeError\u001b[0m: can only concatenate str (not \"float\") to str"
     ]
    }
   ],
   "source": [
    "print(a + b)\n"
   ]
  },
  {
   "cell_type": "markdown",
   "metadata": {},
   "source": [
    "# Arithmetic operators and Notation"
   ]
  },
  {
   "cell_type": "code",
   "execution_count": 11,
   "metadata": {},
   "outputs": [
    {
     "name": "stdout",
     "output_type": "stream",
     "text": [
      "8\n",
      "3.0\n",
      "1\n"
     ]
    }
   ],
   "source": [
    "power = 2 ** 3 \n",
    "print(power)\n",
    "\n",
    "truncated_float = 9.4 // 3\n",
    "print(truncated_float)\n",
    "\n",
    "module_division = 10 % 3\n",
    "print(module_division)\n"
   ]
  },
  {
   "cell_type": "code",
   "execution_count": null,
   "metadata": {},
   "outputs": [],
   "source": [
    "# Python uses infix operation notation for improved readability\n",
    "infix_operation = 10 + 3\n",
    "\n",
    "\"\"\"\n",
    "Other notations are:\n",
    "- Prefix notation (++a)\n",
    "- Postfix notation (a++)\n",
    "\n",
    "Examples:\n",
    "b = ++a (b receives the value of incremented a)\n",
    "b = a++ (b receives the value of a, and then a is incremented)\n",
    "\"\"\"\n"
   ]
  },
  {
   "cell_type": "markdown",
   "metadata": {},
   "source": [
    "# Logic operators"
   ]
  },
  {
   "cell_type": "code",
   "execution_count": 16,
   "metadata": {},
   "outputs": [
    {
     "name": "stdout",
     "output_type": "stream",
     "text": [
      "False\n",
      "True\n",
      "True\n"
     ]
    }
   ],
   "source": [
    "a = (7 < 4) and (5 > 3)\n",
    "print(a)\n",
    "\n",
    "b = (3 > 2) or (1 > 5)\n",
    "print(b)\n",
    "\n",
    "# Equivalent of XOR\n",
    "c = (3 > 2) != (1 > 5)\n",
    "print(c)\n"
   ]
  },
  {
   "cell_type": "code",
   "execution_count": 20,
   "metadata": {},
   "outputs": [
    {
     "name": "stdout",
     "output_type": "stream",
     "text": [
      "False\n",
      "2\n",
      "3\n"
     ]
    }
   ],
   "source": [
    "# You can use & and | in BIT OPERATIONS AND TRUE/FALSE ONLY OPERATIONS\n",
    "will_b_true = True & False\n",
    "print(will_b_true)\n",
    "\n",
    "# Using this operator with bit operations\n",
    "value = 3 & 2\n",
    "print(value)\n",
    "value = 3 | 2\n",
    "print(value)\n"
   ]
  },
  {
   "cell_type": "markdown",
   "metadata": {},
   "source": [
    "# A little challenge"
   ]
  },
  {
   "cell_type": "code",
   "execution_count": 21,
   "metadata": {},
   "outputs": [],
   "source": [
    "work_tuesday = True\n",
    "work_wednesday = False\n",
    "\n",
    "biggest_prize = work_tuesday and work_wednesday\n",
    "ice_cream_prize = work_tuesday or work_wednesday\n",
    "medium_prize = work_tuesday != work_wednesday\n",
    "no_prize = not ice_cream_prize\n"
   ]
  },
  {
   "cell_type": "markdown",
   "metadata": {},
   "source": [
    "# Ternary operators"
   ]
  },
  {
   "cell_type": "code",
   "execution_count": 22,
   "metadata": {},
   "outputs": [
    {
     "name": "stdout",
     "output_type": "stream",
     "text": [
      "Today my clothes are wet.\n"
     ]
    }
   ],
   "source": [
    "is_raining = True\n",
    "\n",
    "#    Value 1                  Possible values 2  Condition for value\n",
    "print(\"Today my clothes are \" + (\"dry.\", \"wet.\")[is_raining]) # Helps getting rid of if operators in some cases\n",
    "\n",
    "# Remember: It is always the negative option first, then the positive one\n"
   ]
  },
  {
   "cell_type": "markdown",
   "metadata": {},
   "source": [
    "# Bultins"
   ]
  },
  {
   "cell_type": "code",
   "execution_count": 24,
   "metadata": {},
   "outputs": [
    {
     "data": {
      "text/plain": [
       "str"
      ]
     },
     "execution_count": 24,
     "metadata": {},
     "output_type": "execute_result"
    }
   ],
   "source": [
    "# See how you can call functions directly from builtins module\n",
    "__builtins__.type('I am a string!')\n",
    "\n",
    "# Builtins is the python module with all the basic functions and types\n"
   ]
  },
  {
   "cell_type": "code",
   "execution_count": 26,
   "metadata": {},
   "outputs": [
    {
     "data": {
      "text/plain": [
       "['In',\n",
       " 'Out',\n",
       " '_',\n",
       " '_1',\n",
       " '_2',\n",
       " '_23',\n",
       " '_24',\n",
       " '_25',\n",
       " '__',\n",
       " '___',\n",
       " '__builtin__',\n",
       " '__builtins__',\n",
       " '__doc__',\n",
       " '__loader__',\n",
       " '__name__',\n",
       " '__package__',\n",
       " '__spec__',\n",
       " '__vsc_ipynb_file__',\n",
       " '_dh',\n",
       " '_i',\n",
       " '_i1',\n",
       " '_i10',\n",
       " '_i11',\n",
       " '_i12',\n",
       " '_i13',\n",
       " '_i14',\n",
       " '_i15',\n",
       " '_i16',\n",
       " '_i17',\n",
       " '_i18',\n",
       " '_i19',\n",
       " '_i2',\n",
       " '_i20',\n",
       " '_i21',\n",
       " '_i22',\n",
       " '_i23',\n",
       " '_i24',\n",
       " '_i25',\n",
       " '_i26',\n",
       " '_i3',\n",
       " '_i4',\n",
       " '_i5',\n",
       " '_i6',\n",
       " '_i7',\n",
       " '_i8',\n",
       " '_i9',\n",
       " '_ih',\n",
       " '_ii',\n",
       " '_iii',\n",
       " '_oh',\n",
       " 'a',\n",
       " 'b',\n",
       " 'biggest_prize',\n",
       " 'c',\n",
       " 'exit',\n",
       " 'get_ipython',\n",
       " 'ice_cream_prize',\n",
       " 'is_raining',\n",
       " 'medium_prize',\n",
       " 'module_division',\n",
       " 'my_array',\n",
       " 'my_dict',\n",
       " 'my_list',\n",
       " 'no_prize',\n",
       " 'open',\n",
       " 'power',\n",
       " 'quit',\n",
       " 'truncated_float',\n",
       " 'value',\n",
       " 'will_b_true',\n",
       " 'work_tuesday',\n",
       " 'work_wednesday']"
      ]
     },
     "execution_count": 26,
     "metadata": {},
     "output_type": "execute_result"
    }
   ],
   "source": [
    "# The dir() function returns all properties and methods of the specified object, without the values.\n",
    "# If used without specification, just like bellow, it will get everything in the global scope  \n",
    "dir()\n"
   ]
  },
  {
   "cell_type": "markdown",
   "metadata": {},
   "source": [
    "# Automatic coercion"
   ]
  },
  {
   "cell_type": "code",
   "execution_count": 33,
   "metadata": {},
   "outputs": [
    {
     "name": "stdout",
     "output_type": "stream",
     "text": [
      "<class 'float'>\n",
      "<class 'int'>\n",
      "<class 'float'>\n",
      "<class 'float'>\n",
      "<class 'int'>\n"
     ]
    }
   ],
   "source": [
    "# Operations where python will convert the numbers automatically\n",
    "\n",
    "print(type(10 / 2)) # In division operations, Python will always make the result a float\n",
    "\n",
    "print(type(10 // 3)) # Not necessarily if you use this operator\n",
    "print(type(10 // 3.3))\n",
    "\n",
    "print(type(10 + 3.0)) # Here it will become a float since float stores more bits in memory \n",
    "print(type(2 + True)) # True and False will be considered as 1 and 0, respectively \n"
   ]
  },
  {
   "cell_type": "markdown",
   "metadata": {},
   "source": [
    "# Numbers"
   ]
  },
  {
   "cell_type": "code",
   "execution_count": 41,
   "metadata": {},
   "outputs": [
    {
     "name": "stdout",
     "output_type": "stream",
     "text": [
      "False\n",
      "<class 'float'>\n",
      "True\n",
      "5\n",
      "10\n"
     ]
    }
   ],
   "source": [
    "# Types bring some built in functions you can call to make certain stuff\n",
    "a = 3.5\n",
    "b = 3.0\n",
    "print(a.is_integer())\n",
    "print(type(b)) # His type might be float...\n",
    "print(b.is_integer()) # But the function checks if the value is representing an integer\n",
    "\n",
    "print(int.__add__(2, 3))\n",
    "print(int.__abs__(-10)) # Gets the absolute value (with no module)\n"
   ]
  },
  {
   "cell_type": "code",
   "execution_count": 48,
   "metadata": {},
   "outputs": [
    {
     "name": "stdout",
     "output_type": "stream",
     "text": [
      "3.3000000000000003\n",
      "3.30\n"
     ]
    }
   ],
   "source": [
    "# Working with float numbers gives you speed, but gives you less precision. Causing things like...\n",
    "a = 1.1 + 2.2\n",
    "print(a)\n",
    "\n",
    "# Because of that, we can use the decimal module to get decimal numbers with more precision\n",
    "from decimal import Decimal, getcontext\n",
    "\n",
    "getcontext().prec = 3# Defining level of precision\n",
    "a = Decimal(1.1) + Decimal(2.2)\n",
    "print(a)\n"
   ]
  },
  {
   "cell_type": "markdown",
   "metadata": {},
   "source": [
    "# Strings"
   ]
  },
  {
   "cell_type": "code",
   "execution_count": 53,
   "metadata": {},
   "outputs": [
    {
     "name": "stdout",
     "output_type": "stream",
     "text": [
      "or, if yo a' complex guy, you \"use\" this method\n",
      "\n",
      "This is a multi line\n",
      "text\n",
      "my dude\n",
      "\n"
     ]
    }
   ],
   "source": [
    "# How to use ' and \" inside a string :)\n",
    "my_str = \"You can' use this method\"\n",
    "my_str = 'or, as my uncle said, \"this method\"'\n",
    "my_str = 'or, if yo a\\' complex guy, you \\\"use\\\" this method'\n",
    "print(my_str)\n",
    "\n",
    "multi_line=\"\"\"\n",
    "This is a multi line\n",
    "text\n",
    "my dude\n",
    "\"\"\"\n",
    "\n",
    "print(multi_line)\n"
   ]
  },
  {
   "cell_type": "code",
   "execution_count": 60,
   "metadata": {},
   "outputs": [
    {
     "name": "stdout",
     "output_type": "stream",
     "text": [
      "Lucian\n",
      "Bellini\n",
      "Lca eln\n"
     ]
    }
   ],
   "source": [
    "name = \"Lucian Bellini\"\n",
    "\n",
    "print(name[:6]) # Get letters until a certain number (last one is ignored)\n",
    "print(name[7:]) # Get letters after a certain number (first one is considered)\n",
    "\n",
    "print(name[::2]) # Get letters 2 by 2\n"
   ]
  }
 ],
 "metadata": {
  "kernelspec": {
   "display_name": "Python 3",
   "language": "python",
   "name": "python3"
  },
  "language_info": {
   "codemirror_mode": {
    "name": "ipython",
    "version": 3
   },
   "file_extension": ".py",
   "mimetype": "text/x-python",
   "name": "python",
   "nbconvert_exporter": "python",
   "pygments_lexer": "ipython3",
   "version": "3.12.4"
  }
 },
 "nbformat": 4,
 "nbformat_minor": 2
}
