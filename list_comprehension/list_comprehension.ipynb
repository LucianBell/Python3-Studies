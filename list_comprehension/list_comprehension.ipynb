{
 "cells": [
  {
   "cell_type": "markdown",
   "metadata": {},
   "source": [
    "# List Comprehension\n",
    "- List comprehension is a **concise and efficient way to create lists in Python**.\n",
    "- It allows you to generate a new list by **applying an expression to each item in an existing iterable**\n",
    "- List comprehensions are often more readable and faster than traditional loops for creating lists.\n",
    "    - Example: `[expression for item in iterable if condition]`"
   ]
  },
  {
   "cell_type": "code",
   "execution_count": 3,
   "metadata": {},
   "outputs": [
    {
     "name": "stdout",
     "output_type": "stream",
     "text": [
      "[4, 8, 12, 16, 20]\n"
     ]
    }
   ],
   "source": [
    "double = [i * 2 for i in range(1, 11) if i%2==0]\n",
    "print(double)\n"
   ]
  },
  {
   "cell_type": "markdown",
   "metadata": {},
   "source": [
    "# Generators\n",
    "- Generators in Python are **a type of iterable**, like lists or tuples.\n",
    "- However, **generators do not store their contents in memory**\n",
    "    - They generate values on the fly and yield them one at a time. \n",
    "    - This makes generators **memory-efficient and suitable for handling large datasets** or streams of data."
   ]
  },
  {
   "cell_type": "code",
   "execution_count": 9,
   "metadata": {},
   "outputs": [
    {
     "name": "stdout",
     "output_type": "stream",
     "text": [
      "4\n",
      "16\n",
      "36\n",
      "64\n",
      "100\n"
     ]
    }
   ],
   "source": [
    "import sys\n",
    "# Generator using expressions\n",
    "generator = (i ** 2 for i in range(1,11) if i%2==0)\n",
    "\n",
    "for item in generator:\n",
    "    print(item)\n"
   ]
  },
  {
   "cell_type": "markdown",
   "metadata": {},
   "source": [
    "# Dict comprehension\n",
    "- It is **concise and efficient way to create dictionaries in Python**.\n",
    "- Just like list comprehension"
   ]
  },
  {
   "cell_type": "code",
   "execution_count": 10,
   "metadata": {},
   "outputs": [
    {
     "name": "stdout",
     "output_type": "stream",
     "text": [
      "{2: 4, 4: 8, 6: 12, 8: 16}\n"
     ]
    }
   ],
   "source": [
    "my_dict = {i: i*2 for i in range(1,10) if i%2==0}\n",
    "print(my_dict)\n"
   ]
  }
 ],
 "metadata": {
  "kernelspec": {
   "display_name": "base",
   "language": "python",
   "name": "python3"
  },
  "language_info": {
   "codemirror_mode": {
    "name": "ipython",
    "version": 3
   },
   "file_extension": ".py",
   "mimetype": "text/x-python",
   "name": "python",
   "nbconvert_exporter": "python",
   "pygments_lexer": "ipython3",
   "version": "3.12.4"
  }
 },
 "nbformat": 4,
 "nbformat_minor": 2
}
