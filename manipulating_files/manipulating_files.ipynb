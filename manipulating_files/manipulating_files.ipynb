{
 "cells": [
  {
   "cell_type": "code",
   "execution_count": 6,
   "metadata": {},
   "outputs": [],
   "source": [
    "file = open('people.csv')\n",
    "\n",
    "data = file.read()\n"
   ]
  },
  {
   "cell_type": "code",
   "execution_count": 7,
   "metadata": {},
   "outputs": [
    {
     "name": "stdout",
     "output_type": "stream",
     "text": [
      "Name: Maria. Age: 45\n",
      "Name: João. Age: 33\n",
      "Name: Pedro. Age: 63\n",
      "Name: Ana. Age: 21\n",
      "Name: Bia. Age: 40\n",
      "Name: Carlos. Age: 14\n"
     ]
    }
   ],
   "source": [
    "for register in data.splitlines():\n",
    "    print('Name: {}. Age: {}'.format(*register.split(',')))\n"
   ]
  },
  {
   "cell_type": "markdown",
   "metadata": {},
   "source": [
    "# Stream reading\n",
    "- Stream reading is the practice of reading data from a file on-demand.\n",
    "- This is more efficient memory-wise, specially for big files\n",
    "\n"
   ]
  },
  {
   "cell_type": "code",
   "execution_count": 10,
   "metadata": {},
   "outputs": [
    {
     "name": "stdout",
     "output_type": "stream",
     "text": [
      "Name: Maria. Age: 45\n",
      "\n",
      "Name: João. Age: 33\n",
      "\n",
      "Name: Pedro. Age: 63\n",
      "\n",
      "Name: Ana. Age: 21\n",
      "\n",
      "Name: Bia. Age: 40\n",
      "\n",
      "Name: Carlos. Age: 14\n"
     ]
    }
   ],
   "source": [
    "file = open('people.csv')\n",
    "\n",
    "for register in file:\n",
    "    print('Name: {}. Age: {}'.format(*register.split(',')))\n"
   ]
  },
  {
   "cell_type": "code",
   "execution_count": 12,
   "metadata": {},
   "outputs": [
    {
     "name": "stdout",
     "output_type": "stream",
     "text": [
      "Name: Maria. Age: 45\n",
      "Name: João. Age: 33\n",
      "Name: Pedro. Age: 63\n",
      "Name: Ana. Age: 21\n",
      "Name: Bia. Age: 40\n",
      "Name: Carlos. Age: 14\n"
     ]
    }
   ],
   "source": [
    "file = open('people.csv')\n",
    "\n",
    "for register in file:\n",
    "    print('Name: {}. Age: {}'.format(*register.strip().split(',')))\n",
    "\n",
    "file.close()\n"
   ]
  },
  {
   "cell_type": "code",
   "execution_count": 27,
   "metadata": {},
   "outputs": [
    {
     "name": "stdout",
     "output_type": "stream",
     "text": [
      "Name: Maria. Age: 45\n",
      "Name: João. Age: 33\n",
      "Name: Pedro. Age: 63\n",
      "Name: Ana. Age: 21\n",
      "Name: Bia. Age: 40\n",
      "Name: Carlos. Age: 14\n",
      "Operation finished...\n"
     ]
    }
   ],
   "source": [
    "try:\n",
    "    file = open('people.csv')\n",
    "\n",
    "    for register in file:\n",
    "        print('Name: {}. Age: {}'.format(*register.strip().split(',')))\n",
    "except IndexError:\n",
    "    print('Index error. Operation was not successful.')\n",
    "finally:\n",
    "    file.close()\n",
    "\n",
    "if file.closed:\n",
    "    print('Operation finished...')\n"
   ]
  },
  {
   "cell_type": "markdown",
   "metadata": {},
   "source": [
    "# Reading CSV with Open\n",
    "- This is the optimal for to read files, since it closes the reading operation automatically"
   ]
  },
  {
   "cell_type": "code",
   "execution_count": 28,
   "metadata": {},
   "outputs": [
    {
     "name": "stdout",
     "output_type": "stream",
     "text": [
      "Name: Maria. Age: 45\n",
      "Name: João. Age: 33\n",
      "Name: Pedro. Age: 63\n",
      "Name: Ana. Age: 21\n",
      "Name: Bia. Age: 40\n",
      "Name: Carlos. Age: 14\n"
     ]
    }
   ],
   "source": [
    "with open('people.csv') as f:\n",
    "    for register in f:\n",
    "        print('Name: {}. Age: {}'.format(*register.strip().split(',')))\n"
   ]
  },
  {
   "cell_type": "code",
   "execution_count": 29,
   "metadata": {},
   "outputs": [],
   "source": [
    "with open('people.csv') as f:\n",
    "    with open('people.txt', 'w') as output:\n",
    "        for register in f:\n",
    "            person = register.strip().split(',')\n",
    "            print('Name: {}. Age: {}'.format(*person), file=output)\n"
   ]
  },
  {
   "cell_type": "markdown",
   "metadata": {},
   "source": [
    "# Using CSV module"
   ]
  },
  {
   "cell_type": "code",
   "execution_count": 30,
   "metadata": {},
   "outputs": [
    {
     "name": "stdout",
     "output_type": "stream",
     "text": [
      "Name: Maria. Age: 45\n",
      "Name: João. Age: 33\n",
      "Name: Pedro. Age: 63\n",
      "Name: Ana. Age: 21\n",
      "Name: Bia. Age: 40\n",
      "Name: Carlos. Age: 14\n"
     ]
    }
   ],
   "source": [
    "import csv\n",
    "\n",
    "with open('people.csv', 'r') as f:\n",
    "    for person in csv.reader(f):\n",
    "        print(f'Name: {person[0]}. Age: {person[1]}')\n"
   ]
  }
 ],
 "metadata": {
  "kernelspec": {
   "display_name": "base",
   "language": "python",
   "name": "python3"
  },
  "language_info": {
   "codemirror_mode": {
    "name": "ipython",
    "version": 3
   },
   "file_extension": ".py",
   "mimetype": "text/x-python",
   "name": "python",
   "nbconvert_exporter": "python",
   "pygments_lexer": "ipython3",
   "version": "3.12.4"
  }
 },
 "nbformat": 4,
 "nbformat_minor": 2
}
